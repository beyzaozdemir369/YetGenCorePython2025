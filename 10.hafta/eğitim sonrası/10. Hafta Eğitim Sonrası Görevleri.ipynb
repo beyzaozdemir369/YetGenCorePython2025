{
 "cells": [
  {
   "attachments": {},
   "cell_type": "markdown",
   "metadata": {},
   "source": [
    "# Problem 1 "
   ]
  },
  {
   "cell_type": "code",
   "execution_count": 1,
   "metadata": {},
   "outputs": [
    {
     "name": "stdout",
     "output_type": "stream",
     "text": [
      "Sıralanmış dizi: [ 1  5  7 12 23]\n"
     ]
    }
   ],
   "source": [
    "# 1 - numpy kütüphanesini import edin\n",
    "import numpy as np\n",
    "\n",
    "# 2 - 5 elemanlı bir numpy array oluşturun\n",
    "dizi = np.array([12, 5, 23, 7, 1])\n",
    "\n",
    "# 3 - Oluşturduğunuz array'i küçükten büyüğe sıralayın\n",
    "sirali_dizi = np.sort(dizi)\n",
    "\n",
    "print(\"Sıralanmış dizi:\", sirali_dizi)\n"
   ]
  },
  {
   "attachments": {},
   "cell_type": "markdown",
   "metadata": {},
   "source": [
    "# Problem 2"
   ]
  },
  {
   "cell_type": "code",
   "execution_count": 2,
   "metadata": {},
   "outputs": [
    {
     "name": "stdout",
     "output_type": "stream",
     "text": [
      "1. Belirli değerlerden oluşan dizi: [10 15 30 45 60]\n",
      "2. 5-15 arası sayılardan oluşan dizi: [ 5  6  7  8  9 10 11 12 13 14 15]\n",
      "3. 50-100 arası 5'er artan dizi: [ 50  55  60  65  70  75  80  85  90  95 100]\n",
      "4. 10 elemanları sıfırlardan oluşan dizi: [0. 0. 0. 0. 0. 0. 0. 0. 0. 0.]\n",
      "5. 10 elemanları birlerden oluşan dizi: [1. 1. 1. 1. 1. 1. 1. 1. 1. 1.]\n",
      "6. 0-100 arasında eşit aralıklı 5 sayı: [  0.  25.  50.  75. 100.]\n",
      "7. 10-30 arasında rastgele 5 tamsayı: [11 19 24 23 14]\n",
      "8. -1 ile 1 arasında rastgele 10 sayı: [-0.1740389  -0.16893543  0.37186031  0.98044405 -0.99483913 -0.48856877\n",
      " -0.17932896  0.02833621 -0.85649623  0.79351627]\n",
      "9. 3x5 boyutunda 10-50 arasında rastgele matris:\n",
      " [[14 45 36 28 23]\n",
      " [40 10 48 39 37]\n",
      " [15 47 47 47 11]]\n",
      "10. Satır toplamları: [146 174 167]\n",
      "10. Sütun toplamları: [ 69 102 131 114  71]\n",
      "11. En büyük değer: 48\n",
      "11. En küçük değer: 10\n",
      "11. Ortalama: 32.46666666666667\n",
      "12. En büyük değerin indeksi: (np.int64(1), np.int64(2))\n",
      "13. 10-20 arasındaki dizinin ilk 3 elemanları: [10 11 12]\n",
      "14. Dizinin ters hali: [20 19 18 17 16 15 14 13 12 11 10]\n",
      "15. Matrisin ilk satırı: [14 45 36 28 23]\n",
      "16. Matrisin 2. satır 3. sütundaki elemanları: 48\n",
      "17. Tüm satırların ilk elemanları: [14 40 15]\n",
      "18. Matrisin tüm elemanlarının karesi:\n",
      " [[ 196 2025 1296  784  529]\n",
      " [1600  100 2304 1521 1369]\n",
      " [ 225 2209 2209 2209  121]]\n",
      "19. (-50,+50) arasında matris:\n",
      " [[-22   8  -3 -37  -4]\n",
      " [-41  42  29 -11  35]\n",
      " [  4 -14  16  -6  -8]]\n",
      "19. Pozitif çift sayılar: [ 8 42  4 16]\n"
     ]
    }
   ],
   "source": [
    "import numpy as np\n",
    "\n",
    "# 1\n",
    "dizi1 = np.array([10, 15, 30, 45, 60])\n",
    "print(\"1. Belirli değerlerden oluşan dizi:\", dizi1)\n",
    "\n",
    "# 2\n",
    "dizi2 = np.arange(5, 16)\n",
    "print(\"2. 5-15 arası sayılardan oluşan dizi:\", dizi2)\n",
    "\n",
    "# 3\n",
    "dizi3 = np.arange(50, 101, 5)\n",
    "print(\"3. 50-100 arası 5'er artan dizi:\", dizi3)\n",
    "\n",
    "# 4\n",
    "dizi4 = np.zeros(10)\n",
    "print(\"4. 10 elemanları sıfırlardan oluşan dizi:\", dizi4)\n",
    "\n",
    "# 5\n",
    "dizi5 = np.ones(10)\n",
    "print(\"5. 10 elemanları birlerden oluşan dizi:\", dizi5)\n",
    "\n",
    "# 6\n",
    "dizi6 = np.linspace(0, 100, 5)\n",
    "print(\"6. 0-100 arasında eşit aralıklı 5 sayı:\", dizi6)\n",
    "\n",
    "# 7\n",
    "dizi7 = np.random.randint(10, 31, 5)\n",
    "print(\"7. 10-30 arasında rastgele 5 tamsayı:\", dizi7)\n",
    "\n",
    "# 8\n",
    "dizi8 = np.random.uniform(-1, 1, 10)\n",
    "print(\"8. -1 ile 1 arasında rastgele 10 sayı:\", dizi8)\n",
    "\n",
    "# 9\n",
    "matris = np.random.randint(10, 51, (3, 5))\n",
    "print(\"9. 3x5 boyutunda 10-50 arasında rastgele matris:\\n\", matris)\n",
    "\n",
    "# 10\n",
    "print(\"10. Satır toplamları:\", matris.sum(axis=1))\n",
    "print(\"10. Sütun toplamları:\", matris.sum(axis=0))\n",
    "\n",
    "# 11\n",
    "print(\"11. En büyük değer:\", matris.max())\n",
    "print(\"11. En küçük değer:\", matris.min())\n",
    "print(\"11. Ortalama:\", matris.mean())\n",
    "\n",
    "# 12\n",
    "print(\"12. En büyük değerin indeksi:\", np.unravel_index(matris.argmax(), matris.shape))\n",
    "\n",
    "# 13\n",
    "dizi9 = np.arange(10, 21)\n",
    "print(\"13. 10-20 arasındaki dizinin ilk 3 elemanları:\", dizi9[:3])\n",
    "\n",
    "# 14\n",
    "print(\"14. Dizinin ters hali:\", dizi9[::-1])\n",
    "\n",
    "# 15\n",
    "print(\"15. Matrisin ilk satırı:\", matris[0])\n",
    "\n",
    "# 16\n",
    "print(\"16. Matrisin 2. satır 3. sütundaki elemanları:\", matris[1, 2])\n",
    "\n",
    "# 17\n",
    "print(\"17. Tüm satırların ilk elemanları:\", matris[:, 0])\n",
    "\n",
    "# 18\n",
    "print(\"18. Matrisin tüm elemanlarının karesi:\\n\", matris ** 2)\n",
    "\n",
    "# 19\n",
    "matris2 = np.random.randint(-50, 51, (3, 5))\n",
    "pozitif_ciftler = matris2[(matris2 > 0) & (matris2 % 2 == 0)]\n",
    "print(\"19. (-50,+50) arasında matris:\\n\", matris2)\n",
    "print(\"19. Pozitif çift sayılar:\", pozitif_ciftler)\n"
   ]
  }
 ],
 "metadata": {
  "kernelspec": {
   "display_name": "Python 3",
   "language": "python",
   "name": "python3"
  },
  "language_info": {
   "codemirror_mode": {
    "name": "ipython",
    "version": 3
   },
   "file_extension": ".py",
   "mimetype": "text/x-python",
   "name": "python",
   "nbconvert_exporter": "python",
   "pygments_lexer": "ipython3",
   "version": "3.13.2"
  },
  "orig_nbformat": 4,
  "vscode": {
   "interpreter": {
    "hash": "5026d2d6e7aaaaba093def813beadff083d8733e4a511af01735cbabd156995d"
   }
  }
 },
 "nbformat": 4,
 "nbformat_minor": 2
}
