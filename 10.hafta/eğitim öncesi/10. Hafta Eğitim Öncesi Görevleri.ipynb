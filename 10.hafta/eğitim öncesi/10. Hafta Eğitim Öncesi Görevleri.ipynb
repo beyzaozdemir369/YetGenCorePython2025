{
 "cells": [
  {
   "attachments": {},
   "cell_type": "markdown",
   "metadata": {},
   "source": [
    "# Problem 1"
   ]
  },
  {
   "cell_type": "code",
   "execution_count": 7,
   "metadata": {},
   "outputs": [
    {
     "name": "stdout",
     "output_type": "stream",
     "text": [
      "Matris: [6 6 1 7 9]\n",
      "Matrisin Boyutu: (5,)\n",
      "Yeniden Boyutlandırılmış Matris:\n",
      " [[6]\n",
      " [6]\n",
      " [1]\n",
      " [7]\n",
      " [9]]\n",
      "Matrisin Boyut Sayısı: 2\n"
     ]
    }
   ],
   "source": [
    "# 1 - numpy kütüphanesini import edin\n",
    "import numpy as np\n",
    "\n",
    "# 2 - 0 ile 10 arasında 5 sayıdan oluşan matris üretin\n",
    "matris = np.random.randint(0, 11, size=(5,))\n",
    "print(\"Matris:\", matris)\n",
    "\n",
    "# 3 - matris'in boyutunu öğrenin\n",
    "print(\"Matrisin Boyutu:\", matris.shape)\n",
    "\n",
    "# 4 - matris'i yeniden boyutlandırın\n",
    "matris = matris.reshape((5, 1))\n",
    "print(\"Yeniden Boyutlandırılmış Matris:\\n\", matris)\n",
    "\n",
    "# 5 - matris'in boyut sayısını öğrenin\n",
    "print(\"Matrisin Boyut Sayısı:\", matris.ndim)\n"
   ]
  },
  {
   "attachments": {},
   "cell_type": "markdown",
   "metadata": {},
   "source": [
    "# Problem 2"
   ]
  },
  {
   "cell_type": "code",
   "execution_count": 8,
   "metadata": {},
   "outputs": [
    {
     "name": "stdout",
     "output_type": "stream",
     "text": [
      "Tek Sayılardan Oluşan Matris:\n",
      " [[1]\n",
      " [3]\n",
      " [5]\n",
      " [7]\n",
      " [9]]\n",
      "Birinci Parça:\n",
      " [[1]\n",
      " [3]]\n",
      "İkinci Parça:\n",
      " [[5]\n",
      " [7]\n",
      " [9]]\n",
      "Birleştirilmiş Matris:\n",
      " [[1]\n",
      " [3]\n",
      " [5]\n",
      " [7]\n",
      " [9]]\n"
     ]
    }
   ],
   "source": [
    "# 1 - 0 ile 10 arasında bulunan tek sayılardan oluşan matris üretin\n",
    "tek_sayilar = np.arange(1, 11, 2)\n",
    "matris2 = tek_sayilar.reshape((5, 1))\n",
    "print(\"Tek Sayılardan Oluşan Matris:\\n\", matris2)\n",
    "\n",
    "# 2 - Oluşturduğunuz matrisi parçalayıp ikiye bölün\n",
    "parca1 = matris2[:2]\n",
    "parca2 = matris2[2:]\n",
    "print(\"Birinci Parça:\\n\", parca1)\n",
    "print(\"İkinci Parça:\\n\", parca2)\n",
    "\n",
    "# 3 - Parçalanmış matrisleri birleştirin\n",
    "birlesmis = np.vstack((parca1, parca2))\n",
    "print(\"Birleştirilmiş Matris:\\n\", birlesmis)\n"
   ]
  },
  {
   "attachments": {},
   "cell_type": "markdown",
   "metadata": {},
   "source": [
    "# Problem 3"
   ]
  },
  {
   "cell_type": "code",
   "execution_count": 9,
   "metadata": {},
   "outputs": [
    {
     "name": "stdout",
     "output_type": "stream",
     "text": [
      "Oluşturulan Matris:\n",
      " [53 11 25 31 89 71 59 21 61 69]\n",
      "Matrisin Şekli (shape): (10,)\n",
      "Matrisin Boyut Sayısı (ndim): 1\n",
      "Matrisin Veri Tipi (dtype): int64\n",
      "Matrisin Toplam Eleman Sayısı (size): 10\n",
      "Matrisin En Küçük Elemanı: 11\n",
      "Matrisin En Büyük Elemanı: 89\n",
      "Matrisin Ortalaması: 49.0\n",
      "Matrisin Standart Sapması: 24.232209969377536\n"
     ]
    }
   ],
   "source": [
    "# 1 - 5 ile 100 arasında ikişer ikişer atlayarak rastgele 10 sayıdan oluşan matris üretin\n",
    "import numpy as np\n",
    "\n",
    "sayilar = np.arange(5, 101, 2) \n",
    "matris3 = np.random.choice(sayilar, size=10, replace=False)\n",
    "print(\"Oluşturulan Matris:\\n\", matris3)\n",
    "\n",
    "# 2 - Matris'in özelliklerini inceleyin\n",
    "print(\"Matrisin Şekli (shape):\", matris3.shape)\n",
    "print(\"Matrisin Boyut Sayısı (ndim):\", matris3.ndim)\n",
    "print(\"Matrisin Veri Tipi (dtype):\", matris3.dtype)\n",
    "print(\"Matrisin Toplam Eleman Sayısı (size):\", matris3.size)\n",
    "print(\"Matrisin En Küçük Elemanı:\", matris3.min())\n",
    "print(\"Matrisin En Büyük Elemanı:\", matris3.max())\n",
    "print(\"Matrisin Ortalaması:\", matris3.mean())\n",
    "print(\"Matrisin Standart Sapması:\", matris3.std())\n"
   ]
  }
 ],
 "metadata": {
  "kernelspec": {
   "display_name": "Python 3",
   "language": "python",
   "name": "python3"
  },
  "language_info": {
   "codemirror_mode": {
    "name": "ipython",
    "version": 3
   },
   "file_extension": ".py",
   "mimetype": "text/x-python",
   "name": "python",
   "nbconvert_exporter": "python",
   "pygments_lexer": "ipython3",
   "version": "3.13.2"
  },
  "orig_nbformat": 4,
  "vscode": {
   "interpreter": {
    "hash": "5026d2d6e7aaaaba093def813beadff083d8733e4a511af01735cbabd156995d"
   }
  }
 },
 "nbformat": 4,
 "nbformat_minor": 2
}
