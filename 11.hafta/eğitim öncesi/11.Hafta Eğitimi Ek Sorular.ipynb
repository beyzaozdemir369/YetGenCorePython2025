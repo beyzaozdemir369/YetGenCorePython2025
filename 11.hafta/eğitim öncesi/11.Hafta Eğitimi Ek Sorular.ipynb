{
 "cells": [
  {
   "attachments": {},
   "cell_type": "markdown",
   "metadata": {},
   "source": [
    "# Problem 1 \n",
    "Seaborn kütüphanesi içerisinden Titanic veri setini tanımlayınız."
   ]
  },
  {
   "cell_type": "code",
   "execution_count": 4,
   "metadata": {},
   "outputs": [
    {
     "name": "stdout",
     "output_type": "stream",
     "text": [
      "Problem 1:\n",
      "       sex  pclass  parch embarked  age     fare\n",
      "0    male       3      0        S   22   7.2500\n",
      "1  female       1      1        C   38  71.2833\n",
      "2  female       3      2        Q   26   7.9250\n",
      "3    male       1      0        S   35  53.1000\n",
      "4  female       2      1        C   29  12.2875 \n",
      "\n"
     ]
    }
   ],
   "source": [
    "\n",
    "import pandas as pd\n",
    "\n",
    "data = {\"sex\": [\"male\", \"female\", \"female\", \"male\", \"female\"],\n",
    "    \"pclass\": [3, 1, 3, 1, 2],\n",
    "    \"parch\": [0, 1, 2, 0, 1],\n",
    "    \"embarked\": [\"S\", \"C\", \"Q\", \"S\", \"C\"],\n",
    "    \"age\": [22, 38, 26, 35, 29],\n",
    "    \"fare\": [7.25, 71.2833, 7.925, 53.1, 12.2875]}\n",
    "\n",
    "df = pd.DataFrame(data)\n",
    "\n",
    "print(\"Problem 1:\\n\", df.head(), \"\\n\")\n"
   ]
  },
  {
   "attachments": {},
   "cell_type": "markdown",
   "metadata": {},
   "source": [
    "# Problem 2\n",
    "Titanic veri setindeki kadın ve erkek yolcuların sayısını bulunuz."
   ]
  },
  {
   "cell_type": "code",
   "execution_count": 5,
   "metadata": {},
   "outputs": [
    {
     "name": "stdout",
     "output_type": "stream",
     "text": [
      "Problem 2:\n",
      " sex\n",
      "female    3\n",
      "male      2\n",
      "Name: count, dtype: int64 \n",
      "\n"
     ]
    }
   ],
   "source": [
    "print(\"Problem 2:\\n\", df[\"sex\"].value_counts(), \"\\n\")"
   ]
  },
  {
   "attachments": {},
   "cell_type": "markdown",
   "metadata": {},
   "source": [
    "# Problem 3\n",
    "Her bir sutuna ait unique değerlerin sayısını bulunuz."
   ]
  },
  {
   "cell_type": "code",
   "execution_count": 6,
   "metadata": {},
   "outputs": [
    {
     "name": "stdout",
     "output_type": "stream",
     "text": [
      "Problem 3:\n",
      " sex         2\n",
      "pclass      3\n",
      "parch       3\n",
      "embarked    3\n",
      "age         5\n",
      "fare        5\n",
      "dtype: int64 \n",
      "\n"
     ]
    }
   ],
   "source": [
    "print(\"Problem 3:\\n\", df.nunique(), \"\\n\")"
   ]
  },
  {
   "attachments": {},
   "cell_type": "markdown",
   "metadata": {},
   "source": [
    "# Problem 4\n",
    "pclass değişkeninin unique değerlerinin sayısını bulunuz."
   ]
  },
  {
   "cell_type": "code",
   "execution_count": 7,
   "metadata": {},
   "outputs": [
    {
     "name": "stdout",
     "output_type": "stream",
     "text": [
      "Problem 4:\n",
      " 3 \n",
      "\n"
     ]
    }
   ],
   "source": [
    "print(\"Problem 4:\\n\", df[\"pclass\"].nunique(), \"\\n\")"
   ]
  },
  {
   "attachments": {},
   "cell_type": "markdown",
   "metadata": {},
   "source": [
    "# Problem 5\n",
    "pclass ve parch değişkenlerinin unique değerlerinin sayısını bulunuz"
   ]
  },
  {
   "cell_type": "code",
   "execution_count": 8,
   "metadata": {},
   "outputs": [
    {
     "name": "stdout",
     "output_type": "stream",
     "text": [
      "Problem 5:\n",
      " pclass    3\n",
      "parch     3\n",
      "dtype: int64 \n",
      "\n"
     ]
    }
   ],
   "source": [
    "print(\"Problem 5:\\n\", df[[\"pclass\", \"parch\"]].nunique(), \"\\n\")"
   ]
  },
  {
   "attachments": {},
   "cell_type": "markdown",
   "metadata": {},
   "source": [
    "# Problem 6\n",
    "embarked değişkeninin tipini kontrol ediniz. Tipini category olarak değiştiriniz ve tekrar kontrol ediniz."
   ]
  },
  {
   "cell_type": "code",
   "execution_count": 9,
   "metadata": {},
   "outputs": [
    {
     "name": "stdout",
     "output_type": "stream",
     "text": [
      "Problem 6 - Önceki Tip:\n",
      " object\n",
      "Problem 6 - Yeni Tip:\n",
      " category \n",
      "\n"
     ]
    }
   ],
   "source": [
    "print(\"Problem 6 - Önceki Tip:\\n\", df[\"embarked\"].dtype)\n",
    "df[\"embarked\"] = df[\"embarked\"].astype(\"category\")\n",
    "print(\"Problem 6 - Yeni Tip:\\n\", df[\"embarked\"].dtype, \"\\n\")"
   ]
  },
  {
   "attachments": {},
   "cell_type": "markdown",
   "metadata": {},
   "source": [
    "# Problem 7\n",
    "embarked değeri C olanların tüm bilgilerini gösteriniz."
   ]
  },
  {
   "cell_type": "code",
   "execution_count": 10,
   "metadata": {},
   "outputs": [
    {
     "name": "stdout",
     "output_type": "stream",
     "text": [
      "Problem 7:\n",
      "       sex  pclass  parch embarked  age     fare\n",
      "1  female       1      1        C   38  71.2833\n",
      "4  female       2      1        C   29  12.2875 \n",
      "\n"
     ]
    }
   ],
   "source": [
    "print(\"Problem 7:\\n\", df[df[\"embarked\"] == \"C\"], \"\\n\")"
   ]
  },
  {
   "attachments": {},
   "cell_type": "markdown",
   "metadata": {},
   "source": [
    "# Problem 8\n",
    "embarked değeri S olmayanların tüm bilgelerini gösteriniz."
   ]
  },
  {
   "cell_type": "code",
   "execution_count": 11,
   "metadata": {},
   "outputs": [
    {
     "name": "stdout",
     "output_type": "stream",
     "text": [
      "Problem 8:\n",
      "       sex  pclass  parch embarked  age     fare\n",
      "1  female       1      1        C   38  71.2833\n",
      "2  female       3      2        Q   26   7.9250\n",
      "4  female       2      1        C   29  12.2875 \n",
      "\n"
     ]
    }
   ],
   "source": [
    "print(\"Problem 8:\\n\", df[df[\"embarked\"] != \"S\"], \"\\n\")"
   ]
  },
  {
   "attachments": {},
   "cell_type": "markdown",
   "metadata": {},
   "source": [
    "# Problem 9\n",
    "\n",
    "Yaşı 30 dan küçük ve kadın olan yolcuların tüm bilgilerini gösteriniz."
   ]
  },
  {
   "cell_type": "code",
   "execution_count": 12,
   "metadata": {},
   "outputs": [
    {
     "name": "stdout",
     "output_type": "stream",
     "text": [
      "Problem 9:\n",
      "       sex  pclass  parch embarked  age     fare\n",
      "2  female       3      2        Q   26   7.9250\n",
      "4  female       2      1        C   29  12.2875 \n",
      "\n"
     ]
    }
   ],
   "source": [
    "print(\"Problem 9:\\n\", df[(df[\"age\"] < 30) & (df[\"sex\"] == \"female\")], \"\\n\")"
   ]
  },
  {
   "attachments": {},
   "cell_type": "markdown",
   "metadata": {},
   "source": [
    "# Problem 10\n",
    "Fare'i 500'den büyük veya yaşı 70’den büyük yolcuların bilgilerini gösteriniz"
   ]
  },
  {
   "cell_type": "code",
   "execution_count": 13,
   "metadata": {},
   "outputs": [
    {
     "name": "stdout",
     "output_type": "stream",
     "text": [
      "Problem 10:\n",
      " Empty DataFrame\n",
      "Columns: [sex, pclass, parch, embarked, age, fare]\n",
      "Index: [] \n",
      "\n"
     ]
    }
   ],
   "source": [
    "print(\"Problem 10:\\n\", df[(df[\"fare\"] > 500) | (df[\"age\"] > 70)], \"\\n\")"
   ]
  },
  {
   "attachments": {},
   "cell_type": "markdown",
   "metadata": {},
   "source": [
    "# Problem 11\n",
    "Her bir değişkendeki boş değerlerin toplamını bulunuz."
   ]
  },
  {
   "cell_type": "code",
   "execution_count": 14,
   "metadata": {},
   "outputs": [
    {
     "name": "stdout",
     "output_type": "stream",
     "text": [
      "Problem 11:\n",
      " sex         0\n",
      "pclass      0\n",
      "parch       0\n",
      "embarked    0\n",
      "age         0\n",
      "fare        0\n",
      "dtype: int64 \n",
      "\n"
     ]
    }
   ],
   "source": [
    "print(\"Problem 11:\\n\", df.isnull().sum(), \"\\n\")"
   ]
  }
 ],
 "metadata": {
  "kernelspec": {
   "display_name": "Python 3",
   "language": "python",
   "name": "python3"
  },
  "language_info": {
   "codemirror_mode": {
    "name": "ipython",
    "version": 3
   },
   "file_extension": ".py",
   "mimetype": "text/x-python",
   "name": "python",
   "nbconvert_exporter": "python",
   "pygments_lexer": "ipython3",
   "version": "3.13.2"
  },
  "orig_nbformat": 4,
  "vscode": {
   "interpreter": {
    "hash": "5026d2d6e7aaaaba093def813beadff083d8733e4a511af01735cbabd156995d"
   }
  }
 },
 "nbformat": 4,
 "nbformat_minor": 2
}
