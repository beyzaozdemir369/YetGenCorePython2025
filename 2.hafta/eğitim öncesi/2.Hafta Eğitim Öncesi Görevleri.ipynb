{
 "cells": [
  {
   "cell_type": "markdown",
   "metadata": {
    "id": "tn8GZg8pTGFf"
   },
   "source": [
    "### Soru 1 \n",
    "Yazılımcıların bir dili öğrenmeye başladığında ilk yapacakları şey ekrana \"Hello World\" yazdırmaktır. Python'da da aynı şeyi yapalım.Bir yazılımcı aşağıdaki kodu yazarken hata yapıyor. Bunu düzelterek çalışan bir kod yazalım.\n"
   ]
  },
  {
   "cell_type": "code",
   "execution_count": 1,
   "metadata": {},
   "outputs": [
    {
     "name": "stdout",
     "output_type": "stream",
     "text": [
      "Hello World\n"
     ]
    }
   ],
   "source": [
    "print(\"Hello World\")"
   ]
  },
  {
   "cell_type": "markdown",
   "metadata": {
    "id": "t9Rh_pt2TGGL"
   },
   "source": [
    "### Soru 2\n",
    "İki YetGen'li zirvede karşılaşıyor. Zirvede birbirleriyle Python standında konuşurken YetGen Jump Python renginin ne olduğunu konuşurken bir YetGen lideri **logo** değişkenine atayıp ekrana bastırmalarını istiyor. Onlara bu noktada yardımcı olur musun?"
   ]
  },
  {
   "cell_type": "code",
   "execution_count": 4,
   "metadata": {
    "id": "RI1LXAWhTGGO"
   },
   "outputs": [
    {
     "name": "stdout",
     "output_type": "stream",
     "text": [
      "mavi\n"
     ]
    }
   ],
   "source": [
    "logo = \"mavi\"\n",
    "print(logo)"
   ]
  },
  {
   "cell_type": "markdown",
   "metadata": {
    "id": "g0lXs2PTTGGR"
   },
   "source": [
    "### Soru 3\n",
    "Dairenin alanını hesaplayan bir Python kodu yazınız. pi sayısını 3.14 olarak alınız ve yarıçapını kullanıcıdan alınız. Sonucu ekrana bastırınız."
   ]
  },
  {
   "cell_type": "code",
   "execution_count": null,
   "metadata": {},
   "outputs": [
    {
     "name": "stdout",
     "output_type": "stream",
     "text": [
      "3.143.143.143.143.143.143.143.143.143.143.143.143.143.143.143.143.143.143.143.143.143.143.143.143.14\n"
     ]
    }
   ],
   "source": [
    "pi = \"3.14\"\n",
    "yaricap = int(input(\"dairenin yarıçapı =5\"))\n",
    "print( pi * (yaricap ** 2))"
   ]
  },
  {
   "cell_type": "markdown",
   "metadata": {
    "id": "cPMMpdJzTGGV"
   },
   "source": [
    "### Soru 4\n",
    "x ve y adında iki liste oluşturunuz. Bu listeleri birbiryle yer değiştirerek yazdırınız.\n",
    "\n",
    "```python\n",
    "x = [1,2,3,4,5]\n",
    "y = [5,4,3,2,1]\n",
    "``` \n",
    "\n",
    "```python\t\n",
    "Output:\n",
    "x = [5, 4, 3, 2, 1]\n",
    "y = [1, 2, 3, 4, 5]\n",
    "```"
   ]
  },
  {
   "cell_type": "code",
   "execution_count": 13,
   "metadata": {},
   "outputs": [
    {
     "name": "stdout",
     "output_type": "stream",
     "text": [
      "x= (1, 2, 3, 4, 5)\n",
      "y= (5, 4, 3, 2, 1)\n"
     ]
    }
   ],
   "source": [
    "x = (1,2,3,4,5)\n",
    "y = (5,4,3,2,1)\n",
    "\n",
    "\n",
    "print(\"x=\",x)\n",
    "print(\"y=\",y)"
   ]
  },
  {
   "cell_type": "markdown",
   "metadata": {
    "id": "vhKsciz1TGGY"
   },
   "source": [
    "### Soru 5\n",
    "Aşağıda verilen kod satırının sonuncunu 1 olacak şekilde düzenleyiniz."
   ]
  },
  {
   "cell_type": "code",
   "execution_count": 8,
   "metadata": {
    "id": "aAgU4SaSTGGb"
   },
   "outputs": [
    {
     "name": "stdout",
     "output_type": "stream",
     "text": [
      "1\n"
     ]
    }
   ],
   "source": [
    "5 - 3 // 2\n",
    "print((5 - 3)// 2)\n",
    "\n"
   ]
  },
  {
   "cell_type": "markdown",
   "metadata": {
    "id": "kRHlU52YTGGe"
   },
   "source": [
    "### Soru 6\n",
    "Aşağıdaki kod satırının sonuncusunu 0 olacak şekilde düzenleyiniz."
   ]
  },
  {
   "cell_type": "code",
   "execution_count": 9,
   "metadata": {
    "id": "SQfEo_XTTGGg"
   },
   "outputs": [
    {
     "name": "stdout",
     "output_type": "stream",
     "text": [
      "0\n"
     ]
    }
   ],
   "source": [
    "8 - 3 * 2 - 1 + 1\n",
    "print(8 - 3 * 2 - 1 + 1 - 2)"
   ]
  },
  {
   "cell_type": "markdown",
   "metadata": {
    "id": "tpixAZXyTGGi"
   },
   "source": [
    "### Soru 7\n",
    "YetGen liderlerinden Berkcan, Emirhan ve Eslem, Ramazan Bayramı'nda topladıkları şekerlerini bir araya getirmeyi ve kendi aralarında eşit olarak paylaşmayı kabul ettiler.\n",
    "Eşit paylaşım yapıldıktan sonra kalan şekerler parçalanacak. Örneğin, eğer toplamda 91 şekerleri varsa , her biri 30 tane alıp kalan 1 tane şekeri parçalayacaklar.\n",
    "Kaç tane şekeri parçalayacaklarını hesaplayan bir Python kodu yazınız."
   ]
  },
  {
   "cell_type": "code",
   "execution_count": null,
   "metadata": {},
   "outputs": [
    {
     "name": "stdout",
     "output_type": "stream",
     "text": [
      "0.6666666666666666\n"
     ]
    }
   ],
   "source": [
    "sayı1 = int(input(\"şeker sayısı berkcan:10\"))\n",
    "sayı2 = int(input(\"şeker sayısı emirhan:12\"))\n",
    "sayı3 = int(input(\"şeker sayısı eslem:13\"))\n",
    "print((((sayı1 + sayı2 + sayı3) % 3)) / 3)"
   ]
  }
 ],
 "metadata": {
  "colab": {
   "provenance": []
  },
  "kernelspec": {
   "display_name": "Python 3",
   "language": "python",
   "name": "python3"
  },
  "language_info": {
   "codemirror_mode": {
    "name": "ipython",
    "version": 3
   },
   "file_extension": ".py",
   "mimetype": "text/x-python",
   "name": "python",
   "nbconvert_exporter": "python",
   "pygments_lexer": "ipython3",
   "version": "3.13.2"
  },
  "orig_nbformat": 4
 },
 "nbformat": 4,
 "nbformat_minor": 0
}
