{
 "cells": [
  {
   "cell_type": "markdown",
   "metadata": {},
   "source": [
    "# Problem 1\n",
    "`ogrenciler` adında bir sözlük oluşturunuz. Kullanıcıdan döngü yardımıyla 3 öğrenci için veri girmesini isteyerek öğrencilerin sırasıyla okul numarası, isim, soy isim, telefon numarası ve doğum tarihi bilgilerini alınız. Aldığınız öğrenci bilgilerini yine aynı döngü yardımıyla `ogrenciler` adındaki sözlükte saklayınız. Daha sonra öğrenci bilgilerinin bulunduğu sözlük yapısını ekrana bastırınız.\n",
    "\n"
   ]
  },
  {
   "cell_type": "code",
   "execution_count": null,
   "metadata": {},
   "outputs": [
    {
     "name": "stdout",
     "output_type": "stream",
     "text": [
      "Öğrenci sözlüğü:\n",
      "{'3541': {'isim': 'Beyza', 'soyisim': 'Özdemir', 'telefon': '78654', 'dogum_tarihi': '02.05.2006'}, '4255': {'isim': 'Emir', 'soyisim': 'Bircan', 'telefon': '98765', 'dogum_tarihi': '01.03.2003'}, '7890': {'isim': 'Hasan', 'soyisim': 'Doğan', 'telefon': '25341', 'dogum_tarihi': '19.01.2003'}}\n"
     ]
    }
   ],
   "source": [
    "ogrenciler={}\n",
    "for x in range(3):\n",
    "    okulno = input(\"Öğrenci okul numarası: \")\n",
    "    isim = input(\"Öğrenci adı: \")\n",
    "    telefon = input(\"Öğrenci telefon numarası: \")\n",
    "    soyisim = input(\"Öğrenci soyadı: \")\n",
    "    dogumtarihi = input(\"Öğrenci doğum tarihi (gün.ay.yıl şeklinde): \")\n",
    "    \n",
    "    ogrenciler[okulno] = { \"isim\": isim,\"soyisim\": soyisim, \"telefon\": telefon,\"dogum_tarihi\": dogumtarihi}\n",
    "print(\"Öğrenci sözlüğü:\")\n",
    "print(ogrenciler)"
   ]
  },
  {
   "cell_type": "markdown",
   "metadata": {},
   "source": [
    "# Problem 2\n",
    "\n",
    "### a - Biraz ısınarak başlayalım!\n",
    "\n",
    "```\n",
    "numbers = [5,10,10,15,15,15,20,20,20,20]\n",
    "```\n",
    "\n",
    "Yukarıda `numbers` adında 10 elemanlı bir liste verilmiştir. Bu listenin her elemanını kontrol eden ve tekrar eden elemanları bir kez olacak şekilde başka bir listeye kopyalayan bir program yazınız. Son olarak oluşturduğunuz listeyi ekrana bastırınız.\n",
    "\n",
    "\n",
    "\n",
    "\n",
    "```\n",
    ">Output\n",
    "[5, 10, 15, 20]\n",
    "```\n"
   ]
  },
  {
   "cell_type": "code",
   "execution_count": 3,
   "metadata": {},
   "outputs": [
    {
     "name": "stdout",
     "output_type": "stream",
     "text": [
      "[5, 10, 15, 20]\n"
     ]
    }
   ],
   "source": [
    "numbers = [5, 10, 10, 15, 15, 15, 20, 20, 20, 20]\n",
    "numbers1= list(set (numbers))  \n",
    "numbers1.sort()  \n",
    "print(numbers1)"
   ]
  },
  {
   "cell_type": "markdown",
   "metadata": {},
   "source": [
    "### 🌶️ b) Hadi işi biraz daha zorlaştıralım! \n",
    "\n",
    "\n",
    "Şimdiyse senden `numbers` isimli listedeki tekrar eden elemanları `repeatNumbers` adındaki listeye; tekrar etmeyen elemanları `uniqueNumbers`adındaki listeye kopyalayan yazmanı ve listeleri ekrana bastırmanı bekliyoruz\n",
    "\n",
    "```\n",
    ">Output\n",
    "Tekrar Eden Elemanlar: [10, 10, 15, 15, 15, 20, 20, 20, 20]\n",
    "Tekrar Etmeyen Elemanlar: [5]\n",
    "```"
   ]
  },
  {
   "cell_type": "code",
   "execution_count": 8,
   "metadata": {},
   "outputs": [
    {
     "name": "stdout",
     "output_type": "stream",
     "text": [
      "tekrar eden elemanlar: [10, 10, 15, 15, 20, 20, 20, 20]\n",
      "tekrar etmeyen elemanlar: [5]\n"
     ]
    }
   ],
   "source": [
    "numbers=[5,10,10,15,15,20,20,20,20]\n",
    "repeatNumbers= []\n",
    "uniqueNumbers=[]\n",
    "for i in numbers:\n",
    "    if numbers.count(i) > 1:\n",
    "        repeatNumbers.append(i)\n",
    "    else:\n",
    "        uniqueNumbers.append(i)\n",
    "print(\"tekrar eden elemanlar:\" ,repeatNumbers)\n",
    "print(\"tekrar etmeyen elemanlar:\", uniqueNumbers)"
   ]
  },
  {
   "cell_type": "markdown",
   "metadata": {},
   "source": [
    "# Problem 3\n",
    "sn1 = {1,2,3,4,5}\n",
    "\n",
    "sn2 = {4,5,6,7,8}\n",
    "\n",
    " Verilen 2 adet küme için kesişimlerini, farklarını ve birleşimlerini bulunuz. "
   ]
  },
  {
   "cell_type": "code",
   "execution_count": 6,
   "metadata": {},
   "outputs": [
    {
     "name": "stdout",
     "output_type": "stream",
     "text": [
      "kesişim {4, 5}\n",
      "birleşim {1, 2, 3, 4, 5, 6, 7, 8}\n",
      "fark {1, 2, 3}\n"
     ]
    }
   ],
   "source": [
    "sn1={1,2,3,4,5}\n",
    "sn2={4,5,6,7,8}\n",
    "\n",
    "\n",
    "print(\"kesişim\",sn1.intersection(sn2))\n",
    "print(\"birleşim\",sn1.union(sn2))\n",
    "print(\"fark\",sn1.difference(sn2))\n",
    "\n",
    "\n"
   ]
  },
  {
   "cell_type": "markdown",
   "metadata": {},
   "source": [
    "# Problem 4\n",
    "\n",
    "Buradaki işlemlerimizin tamamı stringler içindir. Aşağıda verilecek olan metodlar için kendinizin örnek yaratması gerekmektedir. \n",
    "\n",
    "Örneğin `upper` için `string` değişkeni oluştururken` k = \"BAC\"` şeklinde oluşturmayınız. Bunun yerine k değişkenini `k = \"bac`\" şeklinde oluşturmanız `upper` metodundaki değişimi görebilmeniz için daha iyi olacaktır.\n",
    "\n",
    "Bütün metodlardaki değişimin gözle görülür şekilde değişimi beklenmektedir.\n",
    "\n",
    "\n",
    "1- capitalize(), lower(), upper(), swapcase(), title(), replace()\n",
    "\n",
    "2- endswith(), startswith(), find(), index(), count()\n",
    "\n",
    "3- split(), strip(), join(), islower(), isalpha(), isdigit()\n",
    "\n",
    "\n",
    "Yukarıdaki `string` metodlarındaki değişimleri görebildiğimiz bir program yazınız.\n"
   ]
  },
  {
   "cell_type": "code",
   "execution_count": 10,
   "metadata": {},
   "outputs": [
    {
     "name": "stdout",
     "output_type": "stream",
     "text": [
      "swapcase: IStHEREANY bEYZA! 2031\n",
      "replace: isThereany Beyza! 2031\n",
      "capitalize: Isthereany beyza! 2031\n",
      "lower: isthereany beyza! 2031\n",
      "upper: ISTHEREANY BEYZA! 2031\n",
      "find 'o': -1\n",
      "index 'B': 11\n",
      "count 'h': 1\n",
      "endswith '!': False\n",
      "startswith 'Beyza': False\n",
      "join: Python-is-fun\n",
      "split: ['isThereany', 'Beyza!', '2031']\n",
      "strip: isThereany Beyza! 2031\n",
      "islower: False\n",
      "isalpha: False\n",
      "isdigit: False\n"
     ]
    }
   ],
   "source": [
    "x= \"isThereany Beyza! 2031\"\n",
    "\n",
    "print(\"swapcase:\", x.swapcase())  \n",
    "print(\"replace:\", x.replace(\"World\", \"Python\")) \n",
    "print(\"capitalize:\", x.capitalize())  \n",
    "print(\"lower:\", x.lower())  \n",
    "print(\"upper:\", x.upper())  \n",
    "print(\"find 'o':\", x.find(\"o\"))  \n",
    "print(\"index 'B':\", x.index(\"B\"))  \n",
    "print(\"count 'h':\", x.count(\"h\")) \n",
    "print(\"endswith '!':\", x.endswith(\"!\")) \n",
    "print(\"startswith 'Beyza':\", x.startswith(\"Beyza\"))  \n",
    "print(\"join:\", \"-\".join([\"Python\", \"is\", \"fun\"])) \n",
    "print(\"split:\", x.split()) \n",
    "print(\"strip:\", x.strip())\n",
    "\n",
    "\n",
    "print(\"islower:\", x.islower())  \n",
    "print(\"isalpha:\", x.isalpha())  \n",
    "print(\"isdigit:\", x.isdigit())  "
   ]
  }
 ],
 "metadata": {
  "kernelspec": {
   "display_name": "Python 3",
   "language": "python",
   "name": "python3"
  },
  "language_info": {
   "codemirror_mode": {
    "name": "ipython",
    "version": 3
   },
   "file_extension": ".py",
   "mimetype": "text/x-python",
   "name": "python",
   "nbconvert_exporter": "python",
   "pygments_lexer": "ipython3",
   "version": "3.13.2"
  },
  "orig_nbformat": 4
 },
 "nbformat": 4,
 "nbformat_minor": 2
}
