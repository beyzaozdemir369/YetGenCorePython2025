{
 "cells": [
  {
   "cell_type": "markdown",
   "metadata": {
    "id": "-My6RWLrhXIq"
   },
   "source": [
    "# Problem 1\n",
    "Sözlükleri kullanarak bir telefon rehberi yazın. Bu rehberde kullanıcıya kimin telefonunu görüntülemek istediğini sorun ve kullanıcının girdiği isme göre o kişinin telefon numarasını yazdırın. Proje sonunda elde edeceğiniz çıktı  şuna benzer olmalı:\n",
    "\n",
    "\n",
    "Lütfen numarasını öğrenmek istediğiniz kişinin adını girin: Ahmet\n",
    "\n",
    "Ahmet isimli kişinin numarası şu şekildedir: 0532 678 13 19"
   ]
  },
  {
   "cell_type": "code",
   "execution_count": null,
   "metadata": {
    "id": "LHIQEhchhXIu"
   },
   "outputs": [
    {
     "name": "stdout",
     "output_type": "stream",
     "text": [
      "Beyza isimli kişinin numarası şu şekildedir: 05463762211\n"
     ]
    }
   ],
   "source": [
    "telefon_rehberi= {\"Doğa\": \"05384567870\",\"Beyza\": \"05463762211\",\"Cem\": \"05071220567\"}\n",
    "\n",
    "isim =input(\"Lütfen numarasını öğrenmek istediğiniz kişinin adını girin: \")\n",
    "\n",
    "if isim in telefon_rehberi:\n",
    "    print(f\"{isim} isimli kişinin numarası şu şekildedir: {telefon_rehberi[isim]}\")\n",
    "else:\n",
    "    print(f\"{isim} isimli kişi rehberde bulunmamaktadır.\")\n",
    "\n",
    "\n"
   ]
  },
  {
   "cell_type": "markdown",
   "metadata": {
    "id": "rlgfjEi7hXIv"
   },
   "source": [
    "# Problem 2\n",
    "Sözlükleri kullanarak bir şirket çalışanları indeksi oluşturun. Bu isim indeksinde kişilerin isimleri key, kişilerin  memleket, yaş ve görev bilgileri value olmalıdır. Burada kullanacağımız value değerleri liste olmalıdır.\n",
    "\n",
    "\n",
    "Daha sonra bir isim sorgulama ekranı gibi kullanıcıya kimin bilgilerini görüntülemek istediğini \n",
    "sorun ve sorgulanan kişinin ekranda gösterilmesini sağlayın. Proje sonunda elde edeceğiniz çıktı şu şekilde olmalı:\n",
    "\n",
    "\n",
    "Lütfen bilgilerini görüntülemek istediğiniz çalışanın ismini girin: Mehmet Yağız\n",
    "\n",
    "Mehmet Yağız= Memleket: Adana Yaş: 40 Görev: Direktör"
   ]
  },
  {
   "cell_type": "code",
   "execution_count": 21,
   "metadata": {
    "id": "O09zrrs0hXIv"
   },
   "outputs": [
    {
     "name": "stdout",
     "output_type": "stream",
     "text": [
      "\n",
      "Beyza -> Memleket: İstanbul Yaş: 35 Görev: müdür\n"
     ]
    }
   ],
   "source": [
    "calisanlar = {\"Mehmet\": [\"Mersin\", 40, \"mimar\"],\"Beyza\": [\"İstanbul\", 35, \"müdür\"],\"Deren\": [\"Ankara\", 18, \"öğrenci\"]}\n",
    "isim = input(\"Lütfen bilgilerini görüntülemek istediğiniz çalışanın ismini girin: \")\n",
    "\n",
    "\n",
    "if isim in calisanlar:\n",
    "    memleket, yas, gorev = calisanlar[isim]\n",
    "    print(f\"\\n{isim} -> Memleket: {memleket} Yaş: {yas} Görev: {gorev}\")\n",
    "else:\n",
    "    print(f\" {isim} isimli çalışan bulunmamaktadır.\")\n",
    "\n",
    "\n",
    "\n",
    "\n",
    "\n"
   ]
  },
  {
   "cell_type": "markdown",
   "metadata": {
    "id": "G67ztXG-hXIw"
   },
   "source": [
    "# Problem 3\n",
    "\n",
    "3 öğrenciden oluşan bir öğrenci not sözlüğü oluşturun. Bu sözlükte öğrencilerin notları value olarak bir listede toplansın.\n",
    "\n",
    "Kullanıcıya hangi öğrencinin notlarını görmek istediğini sorun. Öğrencinin notu görüntülendiğinde program sonunda şöyle bir çıktı elde etmelisiniz:\n",
    "\n",
    "```\n",
    "Lütfen notlarını görmek istediğiniz öğrencinin adını girin: Mehmet\n",
    "\n",
    "Mehmet isimli öğrencinin      1.Sınav Notu:72\n",
    "                              2.Sınav Notu:66\n",
    "                              3.Sınav Notu:48\n",
    "Not Ortalaması: 62.0\n"
   ]
  },
  {
   "cell_type": "code",
   "execution_count": null,
   "metadata": {
    "id": "TXQ_fuCHhXIw"
   },
   "outputs": [
    {
     "name": "stdout",
     "output_type": "stream",
     "text": [
      "Beyza'nın notları\n",
      "1. sınav notu: 90\n",
      "2. sınav notu: 95\n",
      "3. sınav notu: 100\n",
      "Not ortalaması:  95.0\n"
     ]
    }
   ],
   "source": [
    "ogrenci_notlari= {\"Doğa\": [85, 78, 92],\"Beyza\": [90, 95, 100],\"Cem\": [70, 88, 76]}\n",
    "isim = input(\"notlarını görmek istediğiniz öğrencinin adını giriniz: \")\n",
    "\n",
    "if isim in ogrenci_notlari:\n",
    "    notlar = ogrenci_notlari[isim]\n",
    "    \n",
    "    print(f\"{isim}'nın notları\")\n",
    "\n",
    "    for i, notu in enumerate(notlar, 1):\n",
    "         print(f\"{i}. sınav notu: {notu}\")\n",
    "    \n",
    "\n",
    "    ortalama= sum(notlar)/ len(notlar)  \n",
    "    print(f\"Not ortalaması: {ortalama: }\")\n",
    "\n",
    "else:\n",
    "    print(f\"{isim} isimli öğrenci bulunmamaktadır.\")"
   ]
  },
  {
   "cell_type": "markdown",
   "metadata": {
    "id": "oel6A5WFhXIw"
   },
   "source": [
    "# Problem 4"
   ]
  },
  {
   "cell_type": "code",
   "execution_count": 25,
   "metadata": {
    "id": "jVRdspCrhXIx"
   },
   "outputs": [
    {
     "name": "stdout",
     "output_type": "stream",
     "text": [
      "4\n",
      "bmw\n",
      "mazda\n",
      "opel\n",
      "['bmw', 'mercedes', 'opel']\n",
      "['audi', 'renault', 'toyota', 'mercedes', 'bmw']\n",
      "True\n",
      "isimler:  ['Ali', 'Cenk', 'Hakan', 'Sena', 'Yağmur']\n",
      "yıllar:  []\n",
      "araç markaları:  ['Chevrolet', ' Dacia']\n",
      "kullanıcıdan gelen markalar:  ['toyota']\n"
     ]
    }
   ],
   "source": [
    "# 1-  \"Bmw, Mercedes, Opel, Mazda\" elemanlarına sahip bir liste oluşturunuz.\n",
    "liste=[\"bmw\",\"mercedes\",\"opel\",\"mazda\"]\n",
    "\n",
    "# 2-  Liste Kaç elemanlıdır ?\n",
    "print(len(liste))\n",
    "\n",
    "# 3-  Listenin ilk ve son elemanı nedir ?\n",
    "print(liste[0])\n",
    "print(liste[-1])\n",
    "# 4-  Mazda değerini Toyota ile değiştirin.\n",
    "liste[-1]= \"toyota\"\n",
    "# 5-  Listenin -2 indeksindeki değer nedir ?\n",
    "print(liste[-2])\n",
    "# 6-  Listenin ilk 3 elemanını alın.\n",
    "print(liste[:3])\n",
    "\n",
    "# 7-  Listenin son 2 elemanı yerine \"Toyota\" ve \"Renault\" değerlerini ekleyin.\n",
    "liste[-2:]= [\"toyota\",\"renault\"]\n",
    "# 8-  Listenin üzerine \"Audi\" ve \"Nissan\" değerlerini ekleyin.\n",
    "liste.extend([\"audi\",\"nissan\"])\n",
    "# 9- Listenin son elemanını silin.\n",
    "liste.pop()\n",
    "\n",
    "# 10- Liste elemanlarını tersten yazdırınız.\n",
    "print(liste[::-1])\n",
    "# 11- Aşağıdaki verileri bir liste içinde saklayınız. \n",
    "ogrenciler=[[\"Yiğit Bilgi\",2010,(70,60,70)],[\"Sena Turan\",1999,(80,80,70)],[\"Ahmet Turan\",1998,(80,70,90)]]\n",
    "      # studentA: Yiğit Bilgi 2010, (70,60,70)\n",
    "      # studentB: Sena Turan  1999, (80,80,70)\n",
    "      # studentC: Ahmet Turan 1998, (80,70,90) \n",
    "\n",
    "\n",
    "\n",
    "# 12- Liste elemanlarını ekrana yazdırınız.\n",
    "names = ['Ali','Yağmur','Hakan','Deniz']\n",
    "years = [1998, 2000, 1998, 1987]\n",
    "\n",
    "# 13-  \"Cenk\" ismini listenin sonuna ekleyiniz.\n",
    "names.append(\"Cenk\")\n",
    "\n",
    "# 14-  \"Sena\" değerini listenin başına ekleyiniz.\n",
    "names.insert(0,\"Sena\")\n",
    "\n",
    "# 15-  \"Deniz\" ismini listeden siliniz.\n",
    "names.remove(\"Deniz\")\n",
    "\n",
    "# 16-  \"Ali\" listenin bir elemanı mıdır ?\n",
    "print(\"Ali\" in names)\n",
    "# 17-  Liste elemanlarını ters çevirin.\n",
    "names.reverse()\n",
    "# 18-  Liste elemanlarını alfabetik olarak sıralayınız.\n",
    "names.sort()\n",
    "\n",
    "# 19-  years listesini rakamsal büyüklüğe göre sıralayınız.\n",
    "years.sort()\n",
    "# 20-  str = \"Chevrolet,Dacia\" karakter dizisini listeye çeviriniz.\n",
    "str1= \"Chevrolet, Dacia\"\n",
    "brands= str1.split(\",\")\n",
    "\n",
    "# 21- years dizisinde kaç tane 1998 değeri vardır ?\n",
    "sayac1998=years.count(1998)\n",
    "\n",
    "# 22- years dizisinin tüm elemanlarını siliniz.\n",
    "years.clear()\n",
    "\n",
    "# 23- Kullanıcıdan alacağınız 3 tane marka bilgisini bir listede saklayınız.\n",
    "user_brands= []\n",
    "for i in range(3):\n",
    "    brand = input(f\"{i+1}. marka adını giriniz: \")\n",
    "user_brands.append(brand)\n",
    "\n",
    "print(\"isimler: \",names)\n",
    "print(\"yıllar: \",years)\n",
    "print(\"araç markaları: \",brands)\n",
    "print(\"kullanıcıdan gelen markalar: \",user_brands)"
   ]
  }
 ],
 "metadata": {
  "colab": {
   "provenance": []
  },
  "kernelspec": {
   "display_name": "Python 3",
   "language": "python",
   "name": "python3"
  },
  "language_info": {
   "codemirror_mode": {
    "name": "ipython",
    "version": 3
   },
   "file_extension": ".py",
   "mimetype": "text/x-python",
   "name": "python",
   "nbconvert_exporter": "python",
   "pygments_lexer": "ipython3",
   "version": "3.13.2"
  },
  "orig_nbformat": 4
 },
 "nbformat": 4,
 "nbformat_minor": 0
}
