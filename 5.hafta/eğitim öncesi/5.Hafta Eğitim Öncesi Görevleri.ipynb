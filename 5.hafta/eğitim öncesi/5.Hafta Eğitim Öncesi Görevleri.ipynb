{
 "cells": [
  {
   "cell_type": "markdown",
   "metadata": {
    "id": "hpyeSHc7K1aN"
   },
   "source": [
    "# Problem 1\n",
    "Bir YetGenli yeni aldığı bahçesinin etrafına çit çevirmek istiyor. Bahçenin etrafını çit ile çevirmek için gerekli çit uzunluğunu ve bahçenin alanını hesaplayan fonksiyonu yazınız."
   ]
  },
  {
   "cell_type": "code",
   "execution_count": 1,
   "metadata": {
    "id": "HfCgs5BHK1aT"
   },
   "outputs": [
    {
     "name": "stdout",
     "output_type": "stream",
     "text": [
      "gereken çit uzunluğu:48.0 metredir\n",
      "bahçenin alanı: 128.0 metrekaredir\n"
     ]
    }
   ],
   "source": [
    "def alan_hesapla(uzunluk, genislik):\n",
    "    alan =uzunluk * genislik \n",
    "    cevre =2*(uzunluk + genislik) \n",
    "    return cevre, alan\n",
    "uzunluk = float(input(\"bahçenin uzunluğunu gir: \"))\n",
    "genislik= float(input(\"bahçenin genişliğini gir: \"))\n",
    "\n",
    "cevre, alan= alan_hesapla(uzunluk, genislik)\n",
    "print(f\"gereken çit uzunluğu:{cevre} metredir\")\n",
    "print(f\"bahçenin alanı: {alan} metrekaredir\")"
   ]
  },
  {
   "cell_type": "markdown",
   "metadata": {
    "id": "L90q8kwQK1aW"
   },
   "source": [
    "# Problem 2\n",
    "Kendisine gönderilen 2 sayı arasındaki tüm asal sayıları bulan fonksiyonu yazınız."
   ]
  },
  {
   "cell_type": "code",
   "execution_count": null,
   "metadata": {
    "id": "VxbxzQXdK1aX"
   },
   "outputs": [
    {
     "name": "stdout",
     "output_type": "stream",
     "text": [
      "asal sayılar: [7, 11, 13]\n"
     ]
    }
   ],
   "source": [
    "def asal(sayi):\n",
    "    if sayi < 2:\n",
    "        return False\n",
    "    for i in range(2,int(sayi **0.5)+ 1):\n",
    "        if sayi %i ==0:\n",
    "            return False\n",
    "    return True\n",
    "baslangic = int(input(\"başlangıç sayısı: \"))\n",
    "bitis = int(input(\"bitiş sayısı: \"))\n",
    "\n",
    "def asal_sayilar(baslangic, bitis):\n",
    "    asal_sayilar =[sayi for sayi in range(baslangic, bitis +1) if asal(sayi)]\n",
    "    return asal_sayilar\n",
    "\n",
    "print(\"asal sayılar:\", asal_sayilar(baslangic, bitis))"
   ]
  },
  {
   "cell_type": "markdown",
   "metadata": {
    "id": "OqbcX2FPK1aY"
   },
   "source": [
    "# Problem 3\n",
    "YetGen liderlerinin kurdukları girişim unicorn oluyor. YetGen liderleri iş arkadaşlarının alacağı ücretlerini hesaplamak için bir fonksiyon yazdılar. Bu fonksiyonu kullanarak, YetGen liderlerinin iş arkadaşlarına verecekleri ücretleri hesaplayınız.\n",
    "\n",
    "Ücret hesaplanması çalışma saatine bağlıdır. Bunun için kullanıcıdan çalışma saati bilgisinn alın. Sonrasında yapılacak ödemenin hesaplanacağı computePay() adlı bir fonksiyon oluşturun. Bu fonksiyonun içinde işlemler yapın. Çalışma saati 40 ve altındaysa saat başına ücret 10 TL’dir. 40 saatin üstünde çalışıldıysa saat başına ücret 15 TL sayılmaktadır.\n",
    "\n",
    "```\n",
    "Test etmek için 30 saat değerini giriniz,  sonuç 300 TL çıkmalı, \n",
    "ikincil test olarak 50 değerini giriniz,  sonuç 750 TL çıkmalı.\n",
    "```"
   ]
  },
  {
   "cell_type": "code",
   "execution_count": 3,
   "metadata": {
    "id": "Uhg6Gcc1K1aZ"
   },
   "outputs": [
    {
     "name": "stdout",
     "output_type": "stream",
     "text": [
      "Test 1 (35 saat): 350\n",
      "Test 2 (45 saat): 475\n"
     ]
    }
   ],
   "source": [
    "def computePay(saat):\n",
    "    if saat<=40:\n",
    "        ucret=saat*10\n",
    "    else:\n",
    "        ucret =((saat -40) * 15)  + (40 *10)\n",
    "    return ucret\n",
    "test1 = computePay(35) \n",
    "test2 = computePay(45) \n",
    "print(\"Test 1 (35 saat):\", test1) \n",
    "print(\"Test 2 (45 saat):\", test2) "
   ]
  },
  {
   "cell_type": "markdown",
   "metadata": {
    "id": "V0BeBR90K1aZ"
   },
   "source": [
    "# Problem 4\n",
    "YetGenliler zirveye gitmek için toplanıyor. Zirveye gitmek için kiraladıkları araçlar 4'er kişiliktir. Gelecek kişi sayısı için Airtable üzerinde form açılıyor. Gelecek kişi sayısını alıp dört kişilik araçlara bölüp kalan kişi sayısını döndüren bir fonksiyon yazınız."
   ]
  },
  {
   "cell_type": "code",
   "execution_count": 8,
   "metadata": {
    "id": "AC8x-EQlK1aa"
   },
   "outputs": [
    {
     "name": "stdout",
     "output_type": "stream",
     "text": [
      "gruplara bölündükten sonra kişi sayısı:2\n"
     ]
    }
   ],
   "source": [
    "def kalan_kisiler(kisi_sayisi):\n",
    "    kalan = kisi_sayisi% 4 \n",
    "    return kalan\n",
    "kisi_sayisi = int(input(\"kaç kişi gelecek?: \"))\n",
    "print(f\"gruplara bölündükten sonra kişi sayısı:{kalan_kisiler(kisi_sayisi)}\")"
   ]
  },
  {
   "cell_type": "markdown",
   "metadata": {
    "id": "dWcDwEVjK1ab"
   },
   "source": [
    "# Problem 5\n",
    "sayiTopla() adında bir fonksiyon yazın. sayiTopla() fonksiyonu girilen sayıları toplayarak yazdırmasını sağlayan bir fonksiyon yazınız.\n",
    "\n",
    "Örneğin sayiTopla(1,2,3,4,5) yazdığımızda 15 çıktısını almalıyız. sayiTopla(1,2,3,4,5,6,7,8,9,10) yazdığımızda 55 çıktısını almalıyız."
   ]
  },
  {
   "cell_type": "code",
   "execution_count": 6,
   "metadata": {
    "id": "fmCZcLM2K1ad"
   },
   "outputs": [
    {
     "name": "stdout",
     "output_type": "stream",
     "text": [
      "toplam:21\n"
     ]
    }
   ],
   "source": [
    "def sayilaritopla(*sayilar):\n",
    "    toplam=sum(sayilar)\n",
    "    print(f\"toplam:{toplam}\")\n",
    "\n",
    "sayilaritopla(1,2,3,4,5,6)\n"
   ]
  },
  {
   "cell_type": "markdown",
   "metadata": {
    "id": "kd9edMkoK1ae"
   },
   "source": [
    "# Problem 6\n",
    "\n",
    "[(\"xxx\",1),(\"xxx\",2),(\"xxx\",9),(\"xxx\",3), (\"xxx\",1),(\"xxx\",13),(\"xxx\",26),(\"xxx\",4)] listesi içerisinde verilen elemanların her birini tuple içindeki 2. Elemana göre sıralayınız. \n",
    "\n"
   ]
  },
  {
   "cell_type": "code",
   "execution_count": 7,
   "metadata": {
    "id": "Jk4tgaH3K1af"
   },
   "outputs": [
    {
     "name": "stdout",
     "output_type": "stream",
     "text": [
      "yeni liste: [('xxx', 1), ('xxx', 2), ('xxx', 3), ('xxx', 4), ('xxx', 9), ('xxx', 13), ('xxx', 26)]\n"
     ]
    }
   ],
   "source": [
    "liste=[(\"xxx\", 1),(\"xxx\", 2),(\"xxx\", 9),(\"xxx\", 3),(\"xxx\", 13),(\"xxx\", 26),(\"xxx\", 4)]\n",
    "yeni_liste=sorted(liste, key=lambda x:x[1])\n",
    "\n",
    "\n",
    "\n",
    "print(\"yeni liste:\",yeni_liste)"
   ]
  },
  {
   "cell_type": "markdown",
   "metadata": {
    "id": "V0yKbDraK1af"
   },
   "source": [
    "# Problem 7\n",
    "List comprehension kullanarak 1'den 100'e kadar olan sayılardan sadece çift sayıları bir listeye atmayı yapmayı çalışın."
   ]
  },
  {
   "cell_type": "code",
   "execution_count": 9,
   "metadata": {
    "id": "iHosmISJK1ag"
   },
   "outputs": [
    {
     "name": "stdout",
     "output_type": "stream",
     "text": [
      "çift sayılar listesi: [2, 4, 6, 8, 10, 12, 14, 16, 18, 20, 22, 24, 26, 28, 30, 32, 34, 36, 38, 40, 42, 44, 46, 48, 50, 52, 54, 56, 58, 60, 62, 64, 66, 68, 70, 72, 74, 76, 78, 80, 82, 84, 86, 88, 90, 92, 94, 96, 98, 100]\n"
     ]
    }
   ],
   "source": [
    "ciftSayilar=[sayi for sayi in range(1, 101) \n",
    "             if sayi%2==0]\n",
    "\n",
    "print(\"çift sayılar listesi:\", ciftSayilar)"
   ]
  }
 ],
 "metadata": {
  "colab": {
   "provenance": []
  },
  "kernelspec": {
   "display_name": "Python 3",
   "language": "python",
   "name": "python3"
  },
  "language_info": {
   "codemirror_mode": {
    "name": "ipython",
    "version": 3
   },
   "file_extension": ".py",
   "mimetype": "text/x-python",
   "name": "python",
   "nbconvert_exporter": "python",
   "pygments_lexer": "ipython3",
   "version": "3.13.2"
  },
  "orig_nbformat": 4
 },
 "nbformat": 4,
 "nbformat_minor": 0
}
