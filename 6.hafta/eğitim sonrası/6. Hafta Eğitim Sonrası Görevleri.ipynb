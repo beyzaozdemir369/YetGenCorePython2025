{
 "cells": [
  {
   "cell_type": "markdown",
   "metadata": {
    "id": "unoTPlV_tJOm"
   },
   "source": [
    "# Problem 1 \n",
    "Bir sayının çift olup olmadığını sorgulayan bir fonksiyon yazın. Bu fonksiyon, eğer sayı çift ise bu değeri dönsün. Ancak sayı tek sayı ise fonksiyon raise ile ValueError hatası oluştursun. Daha sonra, içinde çift ve tek sayılar bulunduran bir liste tanımlayın ve liste üzerinde gezinerek ekrana sadece çift sayıları bastırın."
   ]
  },
  {
   "cell_type": "code",
   "execution_count": null,
   "metadata": {
    "id": "7oyBSeXptJOp"
   },
   "outputs": [
    {
     "name": "stdout",
     "output_type": "stream",
     "text": [
      "2\n",
      "4\n",
      "6\n"
     ]
    }
   ],
   "source": [
    "liste =[1,2,3,4,5,6,7]\n",
    "def ciftSayi(x):\n",
    "    if x% 2==0:\n",
    "        return x\n",
    "    else:\n",
    "        raise ValueError(\"bu sayı çift sayı değil.\")\n",
    "\n",
    "for x in liste:\n",
    "      try:\n",
    "          print(ciftSayi(x))\n",
    "      except ValueError:\n",
    "          pass \n"
   ]
  },
  {
   "cell_type": "markdown",
   "metadata": {
    "id": "CdfzJ2A9tJOq"
   },
   "source": [
    "# Problem 2\n",
    "\n",
    "2 YetGen lideri ders sırasında canları sıkılınca oyun oynamak isterler. Ancak hangi oyunu oynayacaklarına karar veremezler ve son olarak kendi oyunlarını yazmaya karar verirler.\n",
    "Liderlerimizin kodlamak istediği oyun kuralları şöyledir:\n",
    "- Oyunda random olarak 0 ile 100 arasında bir sayı tutulur.\n",
    "- Kullanıcıdan bilgisayarın tuttuğu sayıyı tahmin etmesi için bir sayı girmesini istenir.\n",
    "- Eğer kullanıcının girdiği sayı bulunması gereken sayıdan küçükse  tahmininizi yükseltin, büyükse tahmininizi düşürün şeklinde bir çıktı verilir.\n",
    "- Oyunun gerçeğe yakın olması için bilgisayarın çalışmasını simgelemek için 1 saniye bekleme süresi tanınır.\n",
    "- Kullanıcı 5 hakkı vardır. 5 hakkı da kullanıp sayıyı bulamazsa oyunu kaybeder."
   ]
  },
  {
   "cell_type": "code",
   "execution_count": 8,
   "metadata": {
    "id": "A1VEETgCtJOr"
   },
   "outputs": [
    {
     "name": "stdout",
     "output_type": "stream",
     "text": [
      "daha büyük olmalı\n",
      "daha büyük olmalı\n",
      "daha büyük olmalı\n",
      "tahmin doğru\n"
     ]
    }
   ],
   "source": [
    "import random, time\n",
    "sayi = random.randint(0, 100)\n",
    "hak = 5\n",
    "\n",
    "while hak > 0:\n",
    "    tahmin =int(input(\"tahmininiz: \"))\n",
    "    time.sleep(1)\n",
    "\n",
    "    if tahmin ==sayi:\n",
    "        print(\"tahmin doğru\")\n",
    "        break\n",
    "    elif tahmin < sayi:\n",
    "        print(\"daha büyük olmalı\")\n",
    "    else:\n",
    "        print(\"daha küçük olmalı\")\n",
    "\n",
    "    hak -=1\n",
    "\n",
    "if hak== 0:\n",
    "    print(f\"doğru sayı: {sayi}\")"
   ]
  }
 ],
 "metadata": {
  "colab": {
   "provenance": []
  },
  "kernelspec": {
   "display_name": "Python 3",
   "language": "python",
   "name": "python3"
  },
  "language_info": {
   "codemirror_mode": {
    "name": "ipython",
    "version": 3
   },
   "file_extension": ".py",
   "mimetype": "text/x-python",
   "name": "python",
   "nbconvert_exporter": "python",
   "pygments_lexer": "ipython3",
   "version": "3.13.2"
  },
  "orig_nbformat": 4,
  "vscode": {
   "interpreter": {
    "hash": "5026d2d6e7aaaaba093def813beadff083d8733e4a511af01735cbabd156995d"
   }
  }
 },
 "nbformat": 4,
 "nbformat_minor": 0
}
