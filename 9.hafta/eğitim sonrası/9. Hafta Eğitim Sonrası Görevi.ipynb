{
 "cells": [
  {
   "attachments": {},
   "cell_type": "markdown",
   "metadata": {},
   "source": [
    "# Problem 1\n",
    "\n",
    "Kumanda isminde bir sınıf oluşturarak aşağıdaki işlemleri yapmasını sağlayan fonksiyonları sınıf içerisinde yazalım.\n",
    "1. Tv Aç\n",
    "2. Tv Kapat\n",
    "3. Ses Ayarları\n",
    "4. Kanal Ekle\n",
    "5. Kanal Sayısını Öğrenme\n",
    "6. Rastgele Kanala Geçme\n",
    "7. Televizyon Bilgileri\n",
    "\n",
    "\n",
    "Kumandayı kapatmak için q tuşuna basılmalı ve diğer durumlarda hangi işlemi yapmak istediği sorulmalıdır. Her işlemde gerekli fonksiyonunun sınıf içerisinden çağırılması gerekmektedir.\n",
    "\n",
    "random ve time kütüphanesini araştırarak kullanabilirsiniz.\n",
    "\n",
    "Kendi istediğiniz özellikleri eklemekte serbetsiniz."
   ]
  },
  {
   "cell_type": "code",
   "execution_count": 1,
   "metadata": {},
   "outputs": [
    {
     "name": "stdout",
     "output_type": "stream",
     "text": [
      "Toplam kanal sayısı: 1\n",
      "TV açıldı.\n",
      "TV kapatıldı.\n",
      "Programdan çıkılıyor...\n"
     ]
    }
   ],
   "source": [
    "import random\n",
    "import time\n",
    "\n",
    "class Kumanda:\n",
    "    def __init__(self):\n",
    "        self.tv_acik = False\n",
    "        self.ses = 10\n",
    "        self.kanal_listesi = [\"TRT\"]\n",
    "        self.suanki_kanal = \"TRT\"\n",
    "    \n",
    "    def tv_ac(self):\n",
    "        if not self.tv_acik:\n",
    "            self.tv_acik = True\n",
    "            print(\"TV açıldı.\")\n",
    "        else:\n",
    "            print(\"TV zaten açık.\")\n",
    "\n",
    "    def tv_kapat(self):\n",
    "        if self.tv_acik:\n",
    "            self.tv_acik = False\n",
    "            print(\"TV kapatıldı.\")\n",
    "        else:\n",
    "            print(\"TV zaten kapalı.\")\n",
    "\n",
    "    def ses_ayarla(self):\n",
    "        while True:\n",
    "            islem = input(\"Sesi Azalt: '<'\\nSesi Arttır: '>'\\nÇıkış: q\\n\")\n",
    "            if islem == \"<\":\n",
    "                if self.ses > 0:\n",
    "                    self.ses -= 1\n",
    "            elif islem == \">\":\n",
    "                if self.ses < 31:\n",
    "                    self.ses += 1\n",
    "            elif islem == \"q\":\n",
    "                break\n",
    "            print(\"Ses:\", self.ses)\n",
    "\n",
    "    def kanal_ekle(self, kanal):\n",
    "        print(\"Kanal ekleniyor...\")\n",
    "        time.sleep(1)\n",
    "        self.kanal_listesi.append(kanal)\n",
    "        print(f\"{kanal} eklendi.\")\n",
    "\n",
    "    def kanal_sayisi(self):\n",
    "        print(\"Toplam kanal sayısı:\", len(self.kanal_listesi))\n",
    "\n",
    "    def rastgele_kanal(self):\n",
    "        self.suanki_kanal = random.choice(self.kanal_listesi)\n",
    "        print(\"Şu anki kanal:\", self.suanki_kanal)\n",
    "\n",
    "    def tv_bilgileri(self):\n",
    "        print(\"TV Durumu:\", \"Açık\" if self.tv_acik else \"Kapalı\")\n",
    "        print(\"Ses Seviyesi:\", self.ses)\n",
    "        print(\"Kanal Listesi:\", self.kanal_listesi)\n",
    "        print(\"Şu Anki Kanal:\", self.suanki_kanal)\n",
    "\n",
    "kumanda = Kumanda()\n",
    "\n",
    "while True:\n",
    "    islem = input(\"\\n1. Tv Aç\\n2. Tv Kapat\\n3. Ses Ayarları\\n4. Kanal Ekle\\n5. Kanal Sayısını Öğrenme\\n6. Rastgele Kanala Geçme\\n7. Televizyon Bilgileri\\nÇıkmak için 'q' tuşuna basın.\\nSeçiminiz: \")\n",
    "    \n",
    "    if islem == \"q\":\n",
    "        print(\"Programdan çıkılıyor...\")\n",
    "        break\n",
    "    elif islem == \"1\":\n",
    "        kumanda.tv_ac()\n",
    "    elif islem == \"2\":\n",
    "        kumanda.tv_kapat()\n",
    "    elif islem == \"3\":\n",
    "        kumanda.ses_ayarla()\n",
    "    elif islem == \"4\":\n",
    "        kanal_ismi = input(\"Eklemek istediğiniz kanalın adını girin: \")\n",
    "        kumanda.kanal_ekle(kanal_ismi)\n",
    "    elif islem == \"5\":\n",
    "        kumanda.kanal_sayisi()\n",
    "    elif islem == \"6\":\n",
    "        kumanda.rastgele_kanal()\n",
    "    elif islem == \"7\":\n",
    "        kumanda.tv_bilgileri()\n",
    "    else:\n",
    "        print(\"Geçersiz işlem.\")"
   ]
  }
 ],
 "metadata": {
  "kernelspec": {
   "display_name": "Python 3",
   "language": "python",
   "name": "python3"
  },
  "language_info": {
   "codemirror_mode": {
    "name": "ipython",
    "version": 3
   },
   "file_extension": ".py",
   "mimetype": "text/x-python",
   "name": "python",
   "nbconvert_exporter": "python",
   "pygments_lexer": "ipython3",
   "version": "3.13.2"
  },
  "orig_nbformat": 4,
  "vscode": {
   "interpreter": {
    "hash": "5026d2d6e7aaaaba093def813beadff083d8733e4a511af01735cbabd156995d"
   }
  }
 },
 "nbformat": 4,
 "nbformat_minor": 2
}
